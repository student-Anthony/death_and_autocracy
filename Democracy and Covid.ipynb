{
 "cells": [
  {
   "cell_type": "markdown",
   "id": "9005a219",
   "metadata": {},
   "source": [
    "Final paper project <br>\n"
   ]
  },
  {
   "cell_type": "markdown",
   "id": "f8c7933d",
   "metadata": {},
   "source": [
    "# Load libraries and data"
   ]
  },
  {
   "cell_type": "code",
   "execution_count": 1,
   "id": "071de390",
   "metadata": {},
   "outputs": [],
   "source": [
    "import pandas as pd\n",
    "import numpy as np\n",
    "import matplotlib.pyplot as plt\n",
    "%matplotlib inline\n",
    "import seaborn as sns; sns.set()\n",
    "from sklearn.linear_model import LinearRegression\n",
    "import statsmodels.api as sm\n",
    "import warnings\n",
    "warnings.filterwarnings('ignore')"
   ]
  },
  {
   "cell_type": "code",
   "execution_count": 2,
   "id": "6b680682",
   "metadata": {},
   "outputs": [
    {
     "data": {
      "text/html": [
       "<div>\n",
       "<style scoped>\n",
       "    .dataframe tbody tr th:only-of-type {\n",
       "        vertical-align: middle;\n",
       "    }\n",
       "\n",
       "    .dataframe tbody tr th {\n",
       "        vertical-align: top;\n",
       "    }\n",
       "\n",
       "    .dataframe thead th {\n",
       "        text-align: right;\n",
       "    }\n",
       "</style>\n",
       "<table border=\"1\" class=\"dataframe\">\n",
       "  <thead>\n",
       "    <tr style=\"text-align: right;\">\n",
       "      <th></th>\n",
       "      <th>country_name</th>\n",
       "      <th>country_text_id</th>\n",
       "      <th>year</th>\n",
       "      <th>v2x_polyarchy</th>\n",
       "      <th>v2x_libdem</th>\n",
       "      <th>v2x_partipdem</th>\n",
       "      <th>v2x_delibdem</th>\n",
       "      <th>v2x_egaldem</th>\n",
       "      <th>deaths_late</th>\n",
       "      <th>deaths_mid</th>\n",
       "      <th>deaths_early</th>\n",
       "      <th>deaths_sum</th>\n",
       "      <th>gdppc</th>\n",
       "      <th>population</th>\n",
       "      <th>dem_cat</th>\n",
       "    </tr>\n",
       "  </thead>\n",
       "  <tbody>\n",
       "    <tr>\n",
       "      <th>0</th>\n",
       "      <td>Mexico</td>\n",
       "      <td>MEX</td>\n",
       "      <td>2020</td>\n",
       "      <td>0.645</td>\n",
       "      <td>0.407</td>\n",
       "      <td>0.385</td>\n",
       "      <td>0.359</td>\n",
       "      <td>0.363</td>\n",
       "      <td>0.000524</td>\n",
       "      <td>0.002067</td>\n",
       "      <td>0.001483</td>\n",
       "      <td>0.004074</td>\n",
       "      <td>16494.08</td>\n",
       "      <td>130262220</td>\n",
       "      <td>middle</td>\n",
       "    </tr>\n",
       "    <tr>\n",
       "      <th>1</th>\n",
       "      <td>Suriname</td>\n",
       "      <td>SUR</td>\n",
       "      <td>2020</td>\n",
       "      <td>0.737</td>\n",
       "      <td>0.595</td>\n",
       "      <td>0.453</td>\n",
       "      <td>0.600</td>\n",
       "      <td>0.537</td>\n",
       "      <td>0.001126</td>\n",
       "      <td>0.000161</td>\n",
       "      <td>0.000160</td>\n",
       "      <td>0.001447</td>\n",
       "      <td>NaN</td>\n",
       "      <td>591798</td>\n",
       "      <td>democracy</td>\n",
       "    </tr>\n",
       "    <tr>\n",
       "      <th>2</th>\n",
       "      <td>Sweden</td>\n",
       "      <td>SWE</td>\n",
       "      <td>2020</td>\n",
       "      <td>0.905</td>\n",
       "      <td>0.873</td>\n",
       "      <td>0.649</td>\n",
       "      <td>0.842</td>\n",
       "      <td>0.815</td>\n",
       "      <td>-0.000028</td>\n",
       "      <td>0.000413</td>\n",
       "      <td>0.000636</td>\n",
       "      <td>0.001021</td>\n",
       "      <td>45541.89</td>\n",
       "      <td>10160159</td>\n",
       "      <td>democracy</td>\n",
       "    </tr>\n",
       "    <tr>\n",
       "      <th>3</th>\n",
       "      <td>Switzerland</td>\n",
       "      <td>CHE</td>\n",
       "      <td>2020</td>\n",
       "      <td>0.892</td>\n",
       "      <td>0.847</td>\n",
       "      <td>0.787</td>\n",
       "      <td>0.855</td>\n",
       "      <td>0.825</td>\n",
       "      <td>-0.000056</td>\n",
       "      <td>0.000962</td>\n",
       "      <td>0.000236</td>\n",
       "      <td>0.001142</td>\n",
       "      <td>61372.73</td>\n",
       "      <td>8715494</td>\n",
       "      <td>democracy</td>\n",
       "    </tr>\n",
       "    <tr>\n",
       "      <th>4</th>\n",
       "      <td>Ghana</td>\n",
       "      <td>GHA</td>\n",
       "      <td>2020</td>\n",
       "      <td>0.698</td>\n",
       "      <td>0.596</td>\n",
       "      <td>0.348</td>\n",
       "      <td>0.582</td>\n",
       "      <td>0.517</td>\n",
       "      <td>0.000157</td>\n",
       "      <td>-0.000031</td>\n",
       "      <td>-0.000105</td>\n",
       "      <td>0.000021</td>\n",
       "      <td>4267.07</td>\n",
       "      <td>31732128</td>\n",
       "      <td>democracy</td>\n",
       "    </tr>\n",
       "  </tbody>\n",
       "</table>\n",
       "</div>"
      ],
      "text/plain": [
       "  country_name country_text_id  year  v2x_polyarchy  v2x_libdem  \\\n",
       "0       Mexico             MEX  2020          0.645       0.407   \n",
       "1     Suriname             SUR  2020          0.737       0.595   \n",
       "2       Sweden             SWE  2020          0.905       0.873   \n",
       "3  Switzerland             CHE  2020          0.892       0.847   \n",
       "4        Ghana             GHA  2020          0.698       0.596   \n",
       "\n",
       "   v2x_partipdem  v2x_delibdem  v2x_egaldem  deaths_late  deaths_mid  \\\n",
       "0          0.385         0.359        0.363     0.000524    0.002067   \n",
       "1          0.453         0.600        0.537     0.001126    0.000161   \n",
       "2          0.649         0.842        0.815    -0.000028    0.000413   \n",
       "3          0.787         0.855        0.825    -0.000056    0.000962   \n",
       "4          0.348         0.582        0.517     0.000157   -0.000031   \n",
       "\n",
       "   deaths_early  deaths_sum     gdppc  population    dem_cat  \n",
       "0      0.001483    0.004074  16494.08   130262220     middle  \n",
       "1      0.000160    0.001447       NaN      591798  democracy  \n",
       "2      0.000636    0.001021  45541.89    10160159  democracy  \n",
       "3      0.000236    0.001142  61372.73     8715494  democracy  \n",
       "4     -0.000105    0.000021   4267.07    31732128  democracy  "
      ]
     },
     "execution_count": 2,
     "metadata": {},
     "output_type": "execute_result"
    }
   ],
   "source": [
    "dc = pd.read_csv('./data/covid_democracy.csv')\n",
    "dc.head()\n",
    "#dataset organized with one row per country, columns with information about regime type and excess deaths during covid"
   ]
  },
  {
   "cell_type": "code",
   "execution_count": 3,
   "id": "e393ed89",
   "metadata": {},
   "outputs": [
    {
     "name": "stdout",
     "output_type": "stream",
     "text": [
      "<class 'pandas.core.frame.DataFrame'>\n",
      "RangeIndex: 175 entries, 0 to 174\n",
      "Data columns (total 15 columns):\n",
      " #   Column           Non-Null Count  Dtype  \n",
      "---  ------           --------------  -----  \n",
      " 0   country_name     175 non-null    object \n",
      " 1   country_text_id  175 non-null    object \n",
      " 2   year             175 non-null    int64  \n",
      " 3   v2x_polyarchy    175 non-null    float64\n",
      " 4   v2x_libdem       175 non-null    float64\n",
      " 5   v2x_partipdem    175 non-null    float64\n",
      " 6   v2x_delibdem     175 non-null    float64\n",
      " 7   v2x_egaldem      175 non-null    float64\n",
      " 8   deaths_late      175 non-null    float64\n",
      " 9   deaths_mid       175 non-null    float64\n",
      " 10  deaths_early     175 non-null    float64\n",
      " 11  deaths_sum       175 non-null    float64\n",
      " 12  gdppc            163 non-null    float64\n",
      " 13  population       175 non-null    int64  \n",
      " 14  dem_cat          175 non-null    object \n",
      "dtypes: float64(10), int64(2), object(3)\n",
      "memory usage: 20.6+ KB\n"
     ]
    }
   ],
   "source": [
    "dc.info()\n",
    "#data is mostly complete - only 12 nulls in gdppc column"
   ]
  },
  {
   "cell_type": "code",
   "execution_count": 4,
   "id": "e5ca7241",
   "metadata": {},
   "outputs": [
    {
     "data": {
      "text/plain": [
       "175"
      ]
     },
     "execution_count": 4,
     "metadata": {},
     "output_type": "execute_result"
    }
   ],
   "source": [
    "len(dc)\n",
    "#data includes 175 countries"
   ]
  },
  {
   "cell_type": "code",
   "execution_count": 5,
   "id": "1cdee972",
   "metadata": {},
   "outputs": [
    {
     "data": {
      "text/html": [
       "<div>\n",
       "<style scoped>\n",
       "    .dataframe tbody tr th:only-of-type {\n",
       "        vertical-align: middle;\n",
       "    }\n",
       "\n",
       "    .dataframe tbody tr th {\n",
       "        vertical-align: top;\n",
       "    }\n",
       "\n",
       "    .dataframe thead th {\n",
       "        text-align: right;\n",
       "    }\n",
       "</style>\n",
       "<table border=\"1\" class=\"dataframe\">\n",
       "  <thead>\n",
       "    <tr style=\"text-align: right;\">\n",
       "      <th></th>\n",
       "      <th>year</th>\n",
       "      <th>v2x_polyarchy</th>\n",
       "      <th>v2x_libdem</th>\n",
       "      <th>v2x_partipdem</th>\n",
       "      <th>v2x_delibdem</th>\n",
       "      <th>v2x_egaldem</th>\n",
       "      <th>deaths_late</th>\n",
       "      <th>deaths_mid</th>\n",
       "      <th>deaths_early</th>\n",
       "      <th>deaths_sum</th>\n",
       "      <th>gdppc</th>\n",
       "      <th>population</th>\n",
       "    </tr>\n",
       "  </thead>\n",
       "  <tbody>\n",
       "    <tr>\n",
       "      <th>count</th>\n",
       "      <td>175.0</td>\n",
       "      <td>175.000000</td>\n",
       "      <td>175.000000</td>\n",
       "      <td>175.000000</td>\n",
       "      <td>175.000000</td>\n",
       "      <td>175.000000</td>\n",
       "      <td>175.000000</td>\n",
       "      <td>175.000000</td>\n",
       "      <td>175.000000</td>\n",
       "      <td>175.000000</td>\n",
       "      <td>163.000000</td>\n",
       "      <td>1.750000e+02</td>\n",
       "    </tr>\n",
       "    <tr>\n",
       "      <th>mean</th>\n",
       "      <td>2020.0</td>\n",
       "      <td>0.518629</td>\n",
       "      <td>0.402794</td>\n",
       "      <td>0.333754</td>\n",
       "      <td>0.400023</td>\n",
       "      <td>0.389143</td>\n",
       "      <td>0.000752</td>\n",
       "      <td>0.000654</td>\n",
       "      <td>0.000287</td>\n",
       "      <td>0.001692</td>\n",
       "      <td>18973.506687</td>\n",
       "      <td>4.493478e+07</td>\n",
       "    </tr>\n",
       "    <tr>\n",
       "      <th>std</th>\n",
       "      <td>0.0</td>\n",
       "      <td>0.253082</td>\n",
       "      <td>0.258172</td>\n",
       "      <td>0.195411</td>\n",
       "      <td>0.245343</td>\n",
       "      <td>0.234457</td>\n",
       "      <td>0.000623</td>\n",
       "      <td>0.000707</td>\n",
       "      <td>0.000470</td>\n",
       "      <td>0.001437</td>\n",
       "      <td>20443.439008</td>\n",
       "      <td>1.561523e+08</td>\n",
       "    </tr>\n",
       "    <tr>\n",
       "      <th>min</th>\n",
       "      <td>2020.0</td>\n",
       "      <td>0.016000</td>\n",
       "      <td>0.012000</td>\n",
       "      <td>0.010000</td>\n",
       "      <td>0.013000</td>\n",
       "      <td>0.028000</td>\n",
       "      <td>-0.000098</td>\n",
       "      <td>-0.000426</td>\n",
       "      <td>-0.001024</td>\n",
       "      <td>-0.000673</td>\n",
       "      <td>623.490000</td>\n",
       "      <td>9.891000e+04</td>\n",
       "    </tr>\n",
       "    <tr>\n",
       "      <th>25%</th>\n",
       "      <td>2020.0</td>\n",
       "      <td>0.292500</td>\n",
       "      <td>0.168500</td>\n",
       "      <td>0.162500</td>\n",
       "      <td>0.214000</td>\n",
       "      <td>0.189500</td>\n",
       "      <td>0.000230</td>\n",
       "      <td>0.000146</td>\n",
       "      <td>-0.000014</td>\n",
       "      <td>0.000611</td>\n",
       "      <td>4183.160000</td>\n",
       "      <td>4.001899e+06</td>\n",
       "    </tr>\n",
       "    <tr>\n",
       "      <th>50%</th>\n",
       "      <td>2020.0</td>\n",
       "      <td>0.536000</td>\n",
       "      <td>0.368000</td>\n",
       "      <td>0.333000</td>\n",
       "      <td>0.364000</td>\n",
       "      <td>0.337000</td>\n",
       "      <td>0.000608</td>\n",
       "      <td>0.000470</td>\n",
       "      <td>0.000183</td>\n",
       "      <td>0.001329</td>\n",
       "      <td>12165.790000</td>\n",
       "      <td>1.026902e+07</td>\n",
       "    </tr>\n",
       "    <tr>\n",
       "      <th>75%</th>\n",
       "      <td>2020.0</td>\n",
       "      <td>0.751000</td>\n",
       "      <td>0.640500</td>\n",
       "      <td>0.475000</td>\n",
       "      <td>0.600000</td>\n",
       "      <td>0.575500</td>\n",
       "      <td>0.001143</td>\n",
       "      <td>0.000890</td>\n",
       "      <td>0.000464</td>\n",
       "      <td>0.002739</td>\n",
       "      <td>27277.485000</td>\n",
       "      <td>3.306780e+07</td>\n",
       "    </tr>\n",
       "    <tr>\n",
       "      <th>max</th>\n",
       "      <td>2020.0</td>\n",
       "      <td>0.910000</td>\n",
       "      <td>0.878000</td>\n",
       "      <td>0.787000</td>\n",
       "      <td>0.871000</td>\n",
       "      <td>0.870000</td>\n",
       "      <td>0.002881</td>\n",
       "      <td>0.002883</td>\n",
       "      <td>0.002293</td>\n",
       "      <td>0.005853</td>\n",
       "      <td>153764.160000</td>\n",
       "      <td>1.444216e+09</td>\n",
       "    </tr>\n",
       "  </tbody>\n",
       "</table>\n",
       "</div>"
      ],
      "text/plain": [
       "         year  v2x_polyarchy  v2x_libdem  v2x_partipdem  v2x_delibdem  \\\n",
       "count   175.0     175.000000  175.000000     175.000000    175.000000   \n",
       "mean   2020.0       0.518629    0.402794       0.333754      0.400023   \n",
       "std       0.0       0.253082    0.258172       0.195411      0.245343   \n",
       "min    2020.0       0.016000    0.012000       0.010000      0.013000   \n",
       "25%    2020.0       0.292500    0.168500       0.162500      0.214000   \n",
       "50%    2020.0       0.536000    0.368000       0.333000      0.364000   \n",
       "75%    2020.0       0.751000    0.640500       0.475000      0.600000   \n",
       "max    2020.0       0.910000    0.878000       0.787000      0.871000   \n",
       "\n",
       "       v2x_egaldem  deaths_late  deaths_mid  deaths_early  deaths_sum  \\\n",
       "count   175.000000   175.000000  175.000000    175.000000  175.000000   \n",
       "mean      0.389143     0.000752    0.000654      0.000287    0.001692   \n",
       "std       0.234457     0.000623    0.000707      0.000470    0.001437   \n",
       "min       0.028000    -0.000098   -0.000426     -0.001024   -0.000673   \n",
       "25%       0.189500     0.000230    0.000146     -0.000014    0.000611   \n",
       "50%       0.337000     0.000608    0.000470      0.000183    0.001329   \n",
       "75%       0.575500     0.001143    0.000890      0.000464    0.002739   \n",
       "max       0.870000     0.002881    0.002883      0.002293    0.005853   \n",
       "\n",
       "               gdppc    population  \n",
       "count     163.000000  1.750000e+02  \n",
       "mean    18973.506687  4.493478e+07  \n",
       "std     20443.439008  1.561523e+08  \n",
       "min       623.490000  9.891000e+04  \n",
       "25%      4183.160000  4.001899e+06  \n",
       "50%     12165.790000  1.026902e+07  \n",
       "75%     27277.485000  3.306780e+07  \n",
       "max    153764.160000  1.444216e+09  "
      ]
     },
     "execution_count": 5,
     "metadata": {},
     "output_type": "execute_result"
    }
   ],
   "source": [
    "dc.describe()\n",
    "#average democracy ('v2x_polyarchy') is 0.52\n",
    "#average excess deaths ('deaths_sum') is 0.001692 per capita"
   ]
  },
  {
   "cell_type": "code",
   "execution_count": 6,
   "id": "b1a3f3bc",
   "metadata": {},
   "outputs": [
    {
     "data": {
      "text/plain": [
       "0.0058526455298094"
      ]
     },
     "execution_count": 6,
     "metadata": {},
     "output_type": "execute_result"
    }
   ],
   "source": [
    "max_deaths = dc['deaths_sum'].max()\n",
    "max_deaths"
   ]
  },
  {
   "cell_type": "code",
   "execution_count": 7,
   "id": "832249c2",
   "metadata": {},
   "outputs": [
    {
     "data": {
      "text/html": [
       "<div>\n",
       "<style scoped>\n",
       "    .dataframe tbody tr th:only-of-type {\n",
       "        vertical-align: middle;\n",
       "    }\n",
       "\n",
       "    .dataframe tbody tr th {\n",
       "        vertical-align: top;\n",
       "    }\n",
       "\n",
       "    .dataframe thead th {\n",
       "        text-align: right;\n",
       "    }\n",
       "</style>\n",
       "<table border=\"1\" class=\"dataframe\">\n",
       "  <thead>\n",
       "    <tr style=\"text-align: right;\">\n",
       "      <th></th>\n",
       "      <th>country_name</th>\n",
       "      <th>country_text_id</th>\n",
       "      <th>year</th>\n",
       "      <th>v2x_polyarchy</th>\n",
       "      <th>v2x_libdem</th>\n",
       "      <th>v2x_partipdem</th>\n",
       "      <th>v2x_delibdem</th>\n",
       "      <th>v2x_egaldem</th>\n",
       "      <th>deaths_late</th>\n",
       "      <th>deaths_mid</th>\n",
       "      <th>deaths_early</th>\n",
       "      <th>deaths_sum</th>\n",
       "      <th>gdppc</th>\n",
       "      <th>population</th>\n",
       "      <th>dem_cat</th>\n",
       "    </tr>\n",
       "  </thead>\n",
       "  <tbody>\n",
       "    <tr>\n",
       "      <th>24</th>\n",
       "      <td>Peru</td>\n",
       "      <td>PER</td>\n",
       "      <td>2020</td>\n",
       "      <td>0.803</td>\n",
       "      <td>0.691</td>\n",
       "      <td>0.585</td>\n",
       "      <td>0.579</td>\n",
       "      <td>0.509</td>\n",
       "      <td>0.002041</td>\n",
       "      <td>0.001519</td>\n",
       "      <td>0.002293</td>\n",
       "      <td>0.005853</td>\n",
       "      <td>12310.08</td>\n",
       "      <td>33359415</td>\n",
       "      <td>democracy</td>\n",
       "    </tr>\n",
       "  </tbody>\n",
       "</table>\n",
       "</div>"
      ],
      "text/plain": [
       "   country_name country_text_id  year  v2x_polyarchy  v2x_libdem  \\\n",
       "24         Peru             PER  2020          0.803       0.691   \n",
       "\n",
       "    v2x_partipdem  v2x_delibdem  v2x_egaldem  deaths_late  deaths_mid  \\\n",
       "24          0.585         0.579        0.509     0.002041    0.001519   \n",
       "\n",
       "    deaths_early  deaths_sum     gdppc  population    dem_cat  \n",
       "24      0.002293    0.005853  12310.08    33359415  democracy  "
      ]
     },
     "execution_count": 7,
     "metadata": {},
     "output_type": "execute_result"
    }
   ],
   "source": [
    "dc.loc[(dc['deaths_sum']==max_deaths)]"
   ]
  },
  {
   "cell_type": "markdown",
   "id": "2ff05b6e",
   "metadata": {},
   "source": [
    "# Exploratory data analysis"
   ]
  },
  {
   "cell_type": "code",
   "execution_count": 8,
   "id": "dcc024aa",
   "metadata": {},
   "outputs": [
    {
     "data": {
      "text/plain": [
       "dem_cat\n",
       "autocracy    0.001920\n",
       "democracy    0.001469\n",
       "middle       0.001710\n",
       "Name: deaths_sum, dtype: float64"
      ]
     },
     "execution_count": 8,
     "metadata": {},
     "output_type": "execute_result"
    }
   ],
   "source": [
    "dc.groupby(['dem_cat'])['deaths_sum'].mean()\n",
    "#democracies have fewest deaths and autocracies have most, \n",
    "# before considering any confounding variables"
   ]
  },
  {
   "cell_type": "code",
   "execution_count": 9,
   "id": "7be54b45",
   "metadata": {},
   "outputs": [
    {
     "data": {
      "text/plain": [
       "<seaborn.axisgrid.FacetGrid at 0x2a26bde7b20>"
      ]
     },
     "execution_count": 9,
     "metadata": {},
     "output_type": "execute_result"
    },
    {
     "data": {
      "image/png": "[encoded data removed]",
      "text/plain": [
       "<Figure size 360x360 with 1 Axes>"
      ]
     },
     "metadata": {},
     "output_type": "display_data"
    }
   ],
   "source": [
    "sns.factorplot('dem_cat', data=dc, kind='count')\n",
    "#many countries in middle zone between democracy and autocracy"
   ]
  },
  {
   "cell_type": "code",
   "execution_count": 10,
   "id": "23d3c45d",
   "metadata": {},
   "outputs": [
    {
     "data": {
      "image/png": "[encoded data removed]",
      "text/plain": [
       "<Figure size 432x288 with 1 Axes>"
      ]
     },
     "metadata": {},
     "output_type": "display_data"
    }
   ],
   "source": [
    "sns.distplot(x=dc['v2x_polyarchy'], bins = 20)\n",
    "plt.xlabel('Degree of Democracy')\n",
    "plt.ylabel('Density')\n",
    "plt.suptitle('Distribution of Democracy Scores')\n",
    "plt.title('in V-Dem Data',loc='center')\n",
    "plt.xlim(0,1)\n",
    "plt.savefig('visuals/vdem_distribution.jpg')"
   ]
  },
  {
   "cell_type": "code",
   "execution_count": 11,
   "id": "fb7fbd37",
   "metadata": {},
   "outputs": [
    {
     "data": {
      "text/plain": [
       "<AxesSubplot:xlabel='deaths_sum', ylabel='dem_cat'>"
      ]
     },
     "execution_count": 11,
     "metadata": {},
     "output_type": "execute_result"
    },
    {
     "data": {
      "image/png": "[encoded data removed]",
      "text/plain": [
       "<Figure size 432x288 with 1 Axes>"
      ]
     },
     "metadata": {},
     "output_type": "display_data"
    }
   ],
   "source": [
    "sns.violinplot(x=dc['deaths_sum'], y=dc['dem_cat'])"
   ]
  },
  {
   "cell_type": "code",
   "execution_count": 12,
   "id": "d479a452",
   "metadata": {},
   "outputs": [
    {
     "data": {
      "image/png": "[encoded data removed]",
      "text/plain": [
       "<Figure size 432x288 with 1 Axes>"
      ]
     },
     "metadata": {},
     "output_type": "display_data"
    }
   ],
   "source": [
    "sns.swarmplot(x=dc['dem_cat'], y=dc['deaths_sum'])\n",
    "plt.xlabel('Regime Type by Category')\n",
    "plt.ylabel('Excess Deaths per Capita')\n",
    "plt.title('Cost of Covid by Regime Type',loc='center')\n",
    "plt.savefig('visuals/deaths_by_regime_violinplot.jpg')"
   ]
  },
  {
   "cell_type": "code",
   "execution_count": 13,
   "id": "0c7cb053",
   "metadata": {},
   "outputs": [
    {
     "data": {
      "text/plain": [
       "<AxesSubplot:xlabel='dem_cat', ylabel='deaths_late'>"
      ]
     },
     "execution_count": 13,
     "metadata": {},
     "output_type": "execute_result"
    },
    {
     "data": {
      "image/png": "[encoded data removed]",
      "text/plain": [
       "<Figure size 432x288 with 1 Axes>"
      ]
     },
     "metadata": {},
     "output_type": "display_data"
    }
   ],
   "source": [
    "sns.swarmplot(x=dc['dem_cat'], y=dc['deaths_late'])"
   ]
  },
  {
   "cell_type": "code",
   "execution_count": 14,
   "id": "e7dfde8c",
   "metadata": {},
   "outputs": [
    {
     "data": {
      "text/plain": [
       "<seaborn.axisgrid.JointGrid at 0x2a27281e340>"
      ]
     },
     "execution_count": 14,
     "metadata": {},
     "output_type": "execute_result"
    },
    {
     "data": {
      "image/png": "[encoded data removed]",
      "text/plain": [
       "<Figure size 432x432 with 3 Axes>"
      ]
     },
     "metadata": {},
     "output_type": "display_data"
    }
   ],
   "source": [
    "sns.jointplot(x=dc['v2x_polyarchy'], y=dc['deaths_sum'], kind = 'scatter')"
   ]
  },
  {
   "cell_type": "code",
   "execution_count": 15,
   "id": "dc724117",
   "metadata": {},
   "outputs": [
    {
     "data": {
      "text/plain": [
       "<matplotlib.collections.PathCollection at 0x2a27296d4f0>"
      ]
     },
     "execution_count": 15,
     "metadata": {},
     "output_type": "execute_result"
    },
    {
     "data": {
      "image/png": "[encoded data removed]",
      "text/plain": [
       "<Figure size 432x288 with 1 Axes>"
      ]
     },
     "metadata": {},
     "output_type": "display_data"
    }
   ],
   "source": [
    "plt.scatter(dc['v2x_polyarchy'], dc['deaths_sum'])"
   ]
  },
  {
   "cell_type": "markdown",
   "id": "f21f2d2a",
   "metadata": {},
   "source": [
    "## Linear Regressions"
   ]
  },
  {
   "cell_type": "code",
   "execution_count": 16,
   "id": "5084ccf3",
   "metadata": {},
   "outputs": [
    {
     "name": "stdout",
     "output_type": "stream",
     "text": [
      "0.002048429868631484\n",
      "[-0.0005427]\n"
     ]
    },
    {
     "data": {
      "text/html": [
       "<table class=\"simpletable\">\n",
       "<caption>OLS Regression Results</caption>\n",
       "<tr>\n",
       "  <th>Dep. Variable:</th>       <td>deaths_sum</td>    <th>  R-squared (uncentered):</th>      <td>   0.447</td>\n",
       "</tr>\n",
       "<tr>\n",
       "  <th>Model:</th>                   <td>OLS</td>       <th>  Adj. R-squared (uncentered):</th> <td>   0.444</td>\n",
       "</tr>\n",
       "<tr>\n",
       "  <th>Method:</th>             <td>Least Squares</td>  <th>  F-statistic:       </th>          <td>   131.0</td>\n",
       "</tr>\n",
       "<tr>\n",
       "  <th>Date:</th>             <td>Tue, 09 Nov 2021</td> <th>  Prob (F-statistic):</th>          <td>1.34e-22</td>\n",
       "</tr>\n",
       "<tr>\n",
       "  <th>Time:</th>                 <td>21:26:34</td>     <th>  Log-Likelihood:    </th>          <td>  808.42</td>\n",
       "</tr>\n",
       "<tr>\n",
       "  <th>No. Observations:</th>      <td>   163</td>      <th>  AIC:               </th>          <td>  -1615.</td>\n",
       "</tr>\n",
       "<tr>\n",
       "  <th>Df Residuals:</th>          <td>   162</td>      <th>  BIC:               </th>          <td>  -1612.</td>\n",
       "</tr>\n",
       "<tr>\n",
       "  <th>Df Model:</th>              <td>     1</td>      <th>                     </th>              <td> </td>   \n",
       "</tr>\n",
       "<tr>\n",
       "  <th>Covariance Type:</th>      <td>nonrobust</td>    <th>                     </th>              <td> </td>   \n",
       "</tr>\n",
       "</table>\n",
       "<table class=\"simpletable\">\n",
       "<tr>\n",
       "        <td></td>           <th>coef</th>     <th>std err</th>      <th>t</th>      <th>P>|t|</th>  <th>[0.025</th>    <th>0.975]</th>  \n",
       "</tr>\n",
       "<tr>\n",
       "  <th>v2x_polyarchy</th> <td>    0.0026</td> <td>    0.000</td> <td>   11.444</td> <td> 0.000</td> <td>    0.002</td> <td>    0.003</td>\n",
       "</tr>\n",
       "</table>\n",
       "<table class=\"simpletable\">\n",
       "<tr>\n",
       "  <th>Omnibus:</th>       <td> 4.223</td> <th>  Durbin-Watson:     </th> <td>   1.750</td>\n",
       "</tr>\n",
       "<tr>\n",
       "  <th>Prob(Omnibus):</th> <td> 0.121</td> <th>  Jarque-Bera (JB):  </th> <td>   4.201</td>\n",
       "</tr>\n",
       "<tr>\n",
       "  <th>Skew:</th>          <td> 0.355</td> <th>  Prob(JB):          </th> <td>   0.122</td>\n",
       "</tr>\n",
       "<tr>\n",
       "  <th>Kurtosis:</th>      <td> 2.662</td> <th>  Cond. No.          </th> <td>    1.00</td>\n",
       "</tr>\n",
       "</table><br/><br/>Notes:<br/>[1] R² is computed without centering (uncentered) since the model does not contain a constant.<br/>[2] Standard Errors assume that the covariance matrix of the errors is correctly specified."
      ],
      "text/plain": [
       "<class 'statsmodels.iolib.summary.Summary'>\n",
       "\"\"\"\n",
       "                                 OLS Regression Results                                \n",
       "=======================================================================================\n",
       "Dep. Variable:             deaths_sum   R-squared (uncentered):                   0.447\n",
       "Model:                            OLS   Adj. R-squared (uncentered):              0.444\n",
       "Method:                 Least Squares   F-statistic:                              131.0\n",
       "Date:                Tue, 09 Nov 2021   Prob (F-statistic):                    1.34e-22\n",
       "Time:                        21:26:34   Log-Likelihood:                          808.42\n",
       "No. Observations:                 163   AIC:                                     -1615.\n",
       "Df Residuals:                     162   BIC:                                     -1612.\n",
       "Df Model:                           1                                                  \n",
       "Covariance Type:            nonrobust                                                  \n",
       "=================================================================================\n",
       "                    coef    std err          t      P>|t|      [0.025      0.975]\n",
       "---------------------------------------------------------------------------------\n",
       "v2x_polyarchy     0.0026      0.000     11.444      0.000       0.002       0.003\n",
       "==============================================================================\n",
       "Omnibus:                        4.223   Durbin-Watson:                   1.750\n",
       "Prob(Omnibus):                  0.121   Jarque-Bera (JB):                4.201\n",
       "Skew:                           0.355   Prob(JB):                        0.122\n",
       "Kurtosis:                       2.662   Cond. No.                         1.00\n",
       "==============================================================================\n",
       "\n",
       "Notes:\n",
       "[1] R² is computed without centering (uncentered) since the model does not contain a constant.\n",
       "[2] Standard Errors assume that the covariance matrix of the errors is correctly specified.\n",
       "\"\"\""
      ]
     },
     "execution_count": 16,
     "metadata": {},
     "output_type": "execute_result"
    }
   ],
   "source": [
    "#bivariate linear model\n",
    "model = LinearRegression(fit_intercept=True)\n",
    "dc_nonulls = dc.dropna(how='any',axis=0) \n",
    "x = dc_nonulls[['v2x_polyarchy']]\n",
    "#choose the dependent variable\n",
    "y = dc_nonulls['deaths_sum']\n",
    "model.fit(x,y)\n",
    "print(model.intercept_)\n",
    "print(model.coef_)\n",
    "sm.OLS(y,x).fit().summary() "
   ]
  },
  {
   "cell_type": "code",
   "execution_count": 17,
   "id": "f9155b09",
   "metadata": {},
   "outputs": [
    {
     "data": {
      "text/plain": [
       "array([-0.0005427 ,  0.00204843])"
      ]
     },
     "execution_count": 17,
     "metadata": {},
     "output_type": "execute_result"
    }
   ],
   "source": [
    "#double check with alternate method\n",
    "np.polyfit(dc_nonulls['v2x_polyarchy'], dc_nonulls['deaths_sum'], 1)"
   ]
  },
  {
   "cell_type": "code",
   "execution_count": 18,
   "id": "45c9e542",
   "metadata": {},
   "outputs": [
    {
     "data": {
      "image/png": "[encoded data removed]",
      "text/plain": [
       "<Figure size 432x288 with 1 Axes>"
      ]
     },
     "metadata": {},
     "output_type": "display_data"
    }
   ],
   "source": [
    "#plot linear model across scatterplot\n",
    "model.fit(dc['v2x_polyarchy'][:, np.newaxis], dc['deaths_sum'])\n",
    "\n",
    "xfit = np.linspace(0, 1, 100)\n",
    "yfit = model.predict(xfit[:, np.newaxis])\n",
    "\n",
    "plt.scatter(dc['v2x_polyarchy'], dc['deaths_sum'])\n",
    "plt.xlabel('Degree of Democracy')\n",
    "plt.ylabel('Covid Deaths per Capita')\n",
    "plt.title('Pandemic Suffering by Regime Type', loc='center')\n",
    "plt.plot(xfit, yfit);\n",
    "plt.savefig('visuals/deaths_by_regime_scatterplot.jpg')"
   ]
  },
  {
   "cell_type": "code",
   "execution_count": 19,
   "id": "e2828608",
   "metadata": {},
   "outputs": [],
   "source": [
    "#choose independent variables\n",
    "dc_nonulls = dc.dropna(how='any',axis=0) \n",
    "x = dc_nonulls[['v2x_polyarchy','gdppc']].copy()\n",
    "#choose the dependent variable\n",
    "y = dc_nonulls['deaths_sum']"
   ]
  },
  {
   "cell_type": "code",
   "execution_count": 20,
   "id": "5c75111f",
   "metadata": {},
   "outputs": [
    {
     "name": "stdout",
     "output_type": "stream",
     "text": [
      "<class 'pandas.core.frame.DataFrame'>\n",
      "Int64Index: 163 entries, 0 to 174\n",
      "Data columns (total 2 columns):\n",
      " #   Column         Non-Null Count  Dtype  \n",
      "---  ------         --------------  -----  \n",
      " 0   v2x_polyarchy  163 non-null    float64\n",
      " 1   gdppc          163 non-null    float64\n",
      "dtypes: float64(2)\n",
      "memory usage: 3.8 KB\n"
     ]
    }
   ],
   "source": [
    "x.info()"
   ]
  },
  {
   "cell_type": "code",
   "execution_count": 21,
   "id": "2d9c6b2b",
   "metadata": {
    "scrolled": false
   },
   "outputs": [
    {
     "name": "stdout",
     "output_type": "stream",
     "text": [
      "0.0020973761895437346\n",
      "[-4.02331672e-04 -6.43917848e-09]\n"
     ]
    },
    {
     "data": {
      "text/html": [
       "<table class=\"simpletable\">\n",
       "<caption>OLS Regression Results</caption>\n",
       "<tr>\n",
       "  <th>Dep. Variable:</th>       <td>deaths_sum</td>    <th>  R-squared (uncentered):</th>      <td>   0.447</td>\n",
       "</tr>\n",
       "<tr>\n",
       "  <th>Model:</th>                   <td>OLS</td>       <th>  Adj. R-squared (uncentered):</th> <td>   0.440</td>\n",
       "</tr>\n",
       "<tr>\n",
       "  <th>Method:</th>             <td>Least Squares</td>  <th>  F-statistic:       </th>          <td>   65.11</td>\n",
       "</tr>\n",
       "<tr>\n",
       "  <th>Date:</th>             <td>Tue, 09 Nov 2021</td> <th>  Prob (F-statistic):</th>          <td>1.91e-21</td>\n",
       "</tr>\n",
       "<tr>\n",
       "  <th>Time:</th>                 <td>21:26:34</td>     <th>  Log-Likelihood:    </th>          <td>  808.44</td>\n",
       "</tr>\n",
       "<tr>\n",
       "  <th>No. Observations:</th>      <td>   163</td>      <th>  AIC:               </th>          <td>  -1613.</td>\n",
       "</tr>\n",
       "<tr>\n",
       "  <th>Df Residuals:</th>          <td>   161</td>      <th>  BIC:               </th>          <td>  -1607.</td>\n",
       "</tr>\n",
       "<tr>\n",
       "  <th>Df Model:</th>              <td>     2</td>      <th>                     </th>              <td> </td>   \n",
       "</tr>\n",
       "<tr>\n",
       "  <th>Covariance Type:</th>      <td>nonrobust</td>    <th>                     </th>              <td> </td>   \n",
       "</tr>\n",
       "</table>\n",
       "<table class=\"simpletable\">\n",
       "<tr>\n",
       "        <td></td>           <th>coef</th>     <th>std err</th>      <th>t</th>      <th>P>|t|</th>  <th>[0.025</th>    <th>0.975]</th>  \n",
       "</tr>\n",
       "<tr>\n",
       "  <th>v2x_polyarchy</th> <td>    0.0026</td> <td>    0.000</td> <td>    8.016</td> <td> 0.000</td> <td>    0.002</td> <td>    0.003</td>\n",
       "</tr>\n",
       "<tr>\n",
       "  <th>gdppc</th>         <td> 1.298e-09</td> <td> 6.72e-09</td> <td>    0.193</td> <td> 0.847</td> <td> -1.2e-08</td> <td> 1.46e-08</td>\n",
       "</tr>\n",
       "</table>\n",
       "<table class=\"simpletable\">\n",
       "<tr>\n",
       "  <th>Omnibus:</th>       <td> 4.110</td> <th>  Durbin-Watson:     </th> <td>   1.745</td>\n",
       "</tr>\n",
       "<tr>\n",
       "  <th>Prob(Omnibus):</th> <td> 0.128</td> <th>  Jarque-Bera (JB):  </th> <td>   4.058</td>\n",
       "</tr>\n",
       "<tr>\n",
       "  <th>Skew:</th>          <td> 0.344</td> <th>  Prob(JB):          </th> <td>   0.131</td>\n",
       "</tr>\n",
       "<tr>\n",
       "  <th>Kurtosis:</th>      <td> 2.648</td> <th>  Cond. No.          </th> <td>6.72e+04</td>\n",
       "</tr>\n",
       "</table><br/><br/>Notes:<br/>[1] R² is computed without centering (uncentered) since the model does not contain a constant.<br/>[2] Standard Errors assume that the covariance matrix of the errors is correctly specified.<br/>[3] The condition number is large, 6.72e+04. This might indicate that there are<br/>strong multicollinearity or other numerical problems."
      ],
      "text/plain": [
       "<class 'statsmodels.iolib.summary.Summary'>\n",
       "\"\"\"\n",
       "                                 OLS Regression Results                                \n",
       "=======================================================================================\n",
       "Dep. Variable:             deaths_sum   R-squared (uncentered):                   0.447\n",
       "Model:                            OLS   Adj. R-squared (uncentered):              0.440\n",
       "Method:                 Least Squares   F-statistic:                              65.11\n",
       "Date:                Tue, 09 Nov 2021   Prob (F-statistic):                    1.91e-21\n",
       "Time:                        21:26:34   Log-Likelihood:                          808.44\n",
       "No. Observations:                 163   AIC:                                     -1613.\n",
       "Df Residuals:                     161   BIC:                                     -1607.\n",
       "Df Model:                           2                                                  \n",
       "Covariance Type:            nonrobust                                                  \n",
       "=================================================================================\n",
       "                    coef    std err          t      P>|t|      [0.025      0.975]\n",
       "---------------------------------------------------------------------------------\n",
       "v2x_polyarchy     0.0026      0.000      8.016      0.000       0.002       0.003\n",
       "gdppc          1.298e-09   6.72e-09      0.193      0.847    -1.2e-08    1.46e-08\n",
       "==============================================================================\n",
       "Omnibus:                        4.110   Durbin-Watson:                   1.745\n",
       "Prob(Omnibus):                  0.128   Jarque-Bera (JB):                4.058\n",
       "Skew:                           0.344   Prob(JB):                        0.131\n",
       "Kurtosis:                       2.648   Cond. No.                     6.72e+04\n",
       "==============================================================================\n",
       "\n",
       "Notes:\n",
       "[1] R² is computed without centering (uncentered) since the model does not contain a constant.\n",
       "[2] Standard Errors assume that the covariance matrix of the errors is correctly specified.\n",
       "[3] The condition number is large, 6.72e+04. This might indicate that there are\n",
       "strong multicollinearity or other numerical problems.\n",
       "\"\"\""
      ]
     },
     "execution_count": 21,
     "metadata": {},
     "output_type": "execute_result"
    }
   ],
   "source": [
    "model.fit(x,y)\n",
    "print(model.intercept_)\n",
    "print(model.coef_)\n",
    "sm.OLS(y,x).fit().summary() \n",
    "#both degree of democracy and gdp per capita predict fewer deaths during entirety of pandemic"
   ]
  },
  {
   "cell_type": "code",
   "execution_count": 22,
   "id": "90607ab6",
   "metadata": {},
   "outputs": [
    {
     "name": "stdout",
     "output_type": "stream",
     "text": [
      "0.000423468767560874\n",
      "[-3.09735074e-04  2.37508715e-09]\n"
     ]
    },
    {
     "data": {
      "text/html": [
       "<table class=\"simpletable\">\n",
       "<caption>OLS Regression Results</caption>\n",
       "<tr>\n",
       "  <th>Dep. Variable:</th>      <td>deaths_early</td>   <th>  R-squared (uncentered):</th>      <td>   0.209</td>\n",
       "</tr>\n",
       "<tr>\n",
       "  <th>Model:</th>                   <td>OLS</td>       <th>  Adj. R-squared (uncentered):</th> <td>   0.199</td>\n",
       "</tr>\n",
       "<tr>\n",
       "  <th>Method:</th>             <td>Least Squares</td>  <th>  F-statistic:       </th>          <td>   21.23</td>\n",
       "</tr>\n",
       "<tr>\n",
       "  <th>Date:</th>             <td>Tue, 09 Nov 2021</td> <th>  Prob (F-statistic):</th>          <td>6.58e-09</td>\n",
       "</tr>\n",
       "<tr>\n",
       "  <th>Time:</th>                 <td>21:26:34</td>     <th>  Log-Likelihood:    </th>          <td>  1006.1</td>\n",
       "</tr>\n",
       "<tr>\n",
       "  <th>No. Observations:</th>      <td>   163</td>      <th>  AIC:               </th>          <td>  -2008.</td>\n",
       "</tr>\n",
       "<tr>\n",
       "  <th>Df Residuals:</th>          <td>   161</td>      <th>  BIC:               </th>          <td>  -2002.</td>\n",
       "</tr>\n",
       "<tr>\n",
       "  <th>Df Model:</th>              <td>     2</td>      <th>                     </th>              <td> </td>   \n",
       "</tr>\n",
       "<tr>\n",
       "  <th>Covariance Type:</th>      <td>nonrobust</td>    <th>                     </th>              <td> </td>   \n",
       "</tr>\n",
       "</table>\n",
       "<table class=\"simpletable\">\n",
       "<tr>\n",
       "        <td></td>           <th>coef</th>     <th>std err</th>      <th>t</th>      <th>P>|t|</th>  <th>[0.025</th>    <th>0.975]</th>  \n",
       "</tr>\n",
       "<tr>\n",
       "  <th>v2x_polyarchy</th> <td>    0.0003</td> <td>  9.6e-05</td> <td>    3.060</td> <td> 0.003</td> <td>    0.000</td> <td>    0.000</td>\n",
       "</tr>\n",
       "<tr>\n",
       "  <th>gdppc</th>         <td> 3.937e-09</td> <td>    2e-09</td> <td>    1.968</td> <td> 0.051</td> <td>-1.29e-11</td> <td> 7.89e-09</td>\n",
       "</tr>\n",
       "</table>\n",
       "<table class=\"simpletable\">\n",
       "<tr>\n",
       "  <th>Omnibus:</th>       <td>46.424</td> <th>  Durbin-Watson:     </th> <td>   1.746</td>\n",
       "</tr>\n",
       "<tr>\n",
       "  <th>Prob(Omnibus):</th> <td> 0.000</td> <th>  Jarque-Bera (JB):  </th> <td>  98.622</td>\n",
       "</tr>\n",
       "<tr>\n",
       "  <th>Skew:</th>          <td> 1.269</td> <th>  Prob(JB):          </th> <td>3.84e-22</td>\n",
       "</tr>\n",
       "<tr>\n",
       "  <th>Kurtosis:</th>      <td> 5.843</td> <th>  Cond. No.          </th> <td>6.72e+04</td>\n",
       "</tr>\n",
       "</table><br/><br/>Notes:<br/>[1] R² is computed without centering (uncentered) since the model does not contain a constant.<br/>[2] Standard Errors assume that the covariance matrix of the errors is correctly specified.<br/>[3] The condition number is large, 6.72e+04. This might indicate that there are<br/>strong multicollinearity or other numerical problems."
      ],
      "text/plain": [
       "<class 'statsmodels.iolib.summary.Summary'>\n",
       "\"\"\"\n",
       "                                 OLS Regression Results                                \n",
       "=======================================================================================\n",
       "Dep. Variable:           deaths_early   R-squared (uncentered):                   0.209\n",
       "Model:                            OLS   Adj. R-squared (uncentered):              0.199\n",
       "Method:                 Least Squares   F-statistic:                              21.23\n",
       "Date:                Tue, 09 Nov 2021   Prob (F-statistic):                    6.58e-09\n",
       "Time:                        21:26:34   Log-Likelihood:                          1006.1\n",
       "No. Observations:                 163   AIC:                                     -2008.\n",
       "Df Residuals:                     161   BIC:                                     -2002.\n",
       "Df Model:                           2                                                  \n",
       "Covariance Type:            nonrobust                                                  \n",
       "=================================================================================\n",
       "                    coef    std err          t      P>|t|      [0.025      0.975]\n",
       "---------------------------------------------------------------------------------\n",
       "v2x_polyarchy     0.0003    9.6e-05      3.060      0.003       0.000       0.000\n",
       "gdppc          3.937e-09      2e-09      1.968      0.051   -1.29e-11    7.89e-09\n",
       "==============================================================================\n",
       "Omnibus:                       46.424   Durbin-Watson:                   1.746\n",
       "Prob(Omnibus):                  0.000   Jarque-Bera (JB):               98.622\n",
       "Skew:                           1.269   Prob(JB):                     3.84e-22\n",
       "Kurtosis:                       5.843   Cond. No.                     6.72e+04\n",
       "==============================================================================\n",
       "\n",
       "Notes:\n",
       "[1] R² is computed without centering (uncentered) since the model does not contain a constant.\n",
       "[2] Standard Errors assume that the covariance matrix of the errors is correctly specified.\n",
       "[3] The condition number is large, 6.72e+04. This might indicate that there are\n",
       "strong multicollinearity or other numerical problems.\n",
       "\"\"\""
      ]
     },
     "execution_count": 22,
     "metadata": {},
     "output_type": "execute_result"
    }
   ],
   "source": [
    "x = dc_nonulls[['v2x_polyarchy','gdppc']].copy()\n",
    "y = dc_nonulls['deaths_early']\n",
    "model.fit(x,y)\n",
    "print(model.intercept_)\n",
    "print(model.coef_)\n",
    "sm.OLS(y,x).fit().summary()\n",
    "#democracy correlates with fewer deaths in early period of pandemic\n",
    "#high gdp per capita predicted more deaths in early period of pandemic"
   ]
  },
  {
   "cell_type": "code",
   "execution_count": 23,
   "id": "b0334497",
   "metadata": {},
   "outputs": [
    {
     "name": "stdout",
     "output_type": "stream",
     "text": [
      "0.001081523082765338\n",
      "[-3.55436801e-04 -6.81623560e-09]\n"
     ]
    },
    {
     "data": {
      "text/html": [
       "<table class=\"simpletable\">\n",
       "<caption>OLS Regression Results</caption>\n",
       "<tr>\n",
       "  <th>Dep. Variable:</th>       <td>deaths_late</td>   <th>  R-squared (uncentered):</th>      <td>   0.409</td>\n",
       "</tr>\n",
       "<tr>\n",
       "  <th>Model:</th>                   <td>OLS</td>       <th>  Adj. R-squared (uncentered):</th> <td>   0.401</td>\n",
       "</tr>\n",
       "<tr>\n",
       "  <th>Method:</th>             <td>Least Squares</td>  <th>  F-statistic:       </th>          <td>   55.60</td>\n",
       "</tr>\n",
       "<tr>\n",
       "  <th>Date:</th>             <td>Tue, 09 Nov 2021</td> <th>  Prob (F-statistic):</th>          <td>4.37e-19</td>\n",
       "</tr>\n",
       "<tr>\n",
       "  <th>Time:</th>                 <td>21:26:34</td>     <th>  Log-Likelihood:    </th>          <td>  938.41</td>\n",
       "</tr>\n",
       "<tr>\n",
       "  <th>No. Observations:</th>      <td>   163</td>      <th>  AIC:               </th>          <td>  -1873.</td>\n",
       "</tr>\n",
       "<tr>\n",
       "  <th>Df Residuals:</th>          <td>   161</td>      <th>  BIC:               </th>          <td>  -1867.</td>\n",
       "</tr>\n",
       "<tr>\n",
       "  <th>Df Model:</th>              <td>     2</td>      <th>                     </th>              <td> </td>   \n",
       "</tr>\n",
       "<tr>\n",
       "  <th>Covariance Type:</th>      <td>nonrobust</td>    <th>                     </th>              <td> </td>   \n",
       "</tr>\n",
       "</table>\n",
       "<table class=\"simpletable\">\n",
       "<tr>\n",
       "        <td></td>           <th>coef</th>     <th>std err</th>      <th>t</th>      <th>P>|t|</th>  <th>[0.025</th>    <th>0.975]</th>  \n",
       "</tr>\n",
       "<tr>\n",
       "  <th>v2x_polyarchy</th> <td>    0.0012</td> <td>    0.000</td> <td>    8.157</td> <td> 0.000</td> <td>    0.001</td> <td>    0.001</td>\n",
       "</tr>\n",
       "<tr>\n",
       "  <th>gdppc</th>         <td>-2.827e-09</td> <td> 3.03e-09</td> <td>   -0.933</td> <td> 0.352</td> <td>-8.81e-09</td> <td> 3.16e-09</td>\n",
       "</tr>\n",
       "</table>\n",
       "<table class=\"simpletable\">\n",
       "<tr>\n",
       "  <th>Omnibus:</th>       <td> 4.199</td> <th>  Durbin-Watson:     </th> <td>   1.708</td>\n",
       "</tr>\n",
       "<tr>\n",
       "  <th>Prob(Omnibus):</th> <td> 0.122</td> <th>  Jarque-Bera (JB):  </th> <td>   4.053</td>\n",
       "</tr>\n",
       "<tr>\n",
       "  <th>Skew:</th>          <td> 0.334</td> <th>  Prob(JB):          </th> <td>   0.132</td>\n",
       "</tr>\n",
       "<tr>\n",
       "  <th>Kurtosis:</th>      <td> 2.613</td> <th>  Cond. No.          </th> <td>6.72e+04</td>\n",
       "</tr>\n",
       "</table><br/><br/>Notes:<br/>[1] R² is computed without centering (uncentered) since the model does not contain a constant.<br/>[2] Standard Errors assume that the covariance matrix of the errors is correctly specified.<br/>[3] The condition number is large, 6.72e+04. This might indicate that there are<br/>strong multicollinearity or other numerical problems."
      ],
      "text/plain": [
       "<class 'statsmodels.iolib.summary.Summary'>\n",
       "\"\"\"\n",
       "                                 OLS Regression Results                                \n",
       "=======================================================================================\n",
       "Dep. Variable:            deaths_late   R-squared (uncentered):                   0.409\n",
       "Model:                            OLS   Adj. R-squared (uncentered):              0.401\n",
       "Method:                 Least Squares   F-statistic:                              55.60\n",
       "Date:                Tue, 09 Nov 2021   Prob (F-statistic):                    4.37e-19\n",
       "Time:                        21:26:34   Log-Likelihood:                          938.41\n",
       "No. Observations:                 163   AIC:                                     -1873.\n",
       "Df Residuals:                     161   BIC:                                     -1867.\n",
       "Df Model:                           2                                                  \n",
       "Covariance Type:            nonrobust                                                  \n",
       "=================================================================================\n",
       "                    coef    std err          t      P>|t|      [0.025      0.975]\n",
       "---------------------------------------------------------------------------------\n",
       "v2x_polyarchy     0.0012      0.000      8.157      0.000       0.001       0.001\n",
       "gdppc         -2.827e-09   3.03e-09     -0.933      0.352   -8.81e-09    3.16e-09\n",
       "==============================================================================\n",
       "Omnibus:                        4.199   Durbin-Watson:                   1.708\n",
       "Prob(Omnibus):                  0.122   Jarque-Bera (JB):                4.053\n",
       "Skew:                           0.334   Prob(JB):                        0.132\n",
       "Kurtosis:                       2.613   Cond. No.                     6.72e+04\n",
       "==============================================================================\n",
       "\n",
       "Notes:\n",
       "[1] R² is computed without centering (uncentered) since the model does not contain a constant.\n",
       "[2] Standard Errors assume that the covariance matrix of the errors is correctly specified.\n",
       "[3] The condition number is large, 6.72e+04. This might indicate that there are\n",
       "strong multicollinearity or other numerical problems.\n",
       "\"\"\""
      ]
     },
     "execution_count": 23,
     "metadata": {},
     "output_type": "execute_result"
    }
   ],
   "source": [
    "x = dc_nonulls[['v2x_polyarchy','gdppc']].copy()\n",
    "y = dc_nonulls['deaths_late']\n",
    "model.fit(x,y)\n",
    "print(model.intercept_)\n",
    "print(model.coef_)\n",
    "sm.OLS(y,x).fit().summary()\n",
    "#democracy correlates with fewer deaths in late period of pandemic\n",
    "#high gdp per capita predicted far fewer deaths in late period of pandemic"
   ]
  },
  {
   "cell_type": "code",
   "execution_count": 24,
   "id": "812faa16",
   "metadata": {},
   "outputs": [
    {
     "data": {
      "text/html": [
       "<div>\n",
       "<style scoped>\n",
       "    .dataframe tbody tr th:only-of-type {\n",
       "        vertical-align: middle;\n",
       "    }\n",
       "\n",
       "    .dataframe tbody tr th {\n",
       "        vertical-align: top;\n",
       "    }\n",
       "\n",
       "    .dataframe thead th {\n",
       "        text-align: right;\n",
       "    }\n",
       "</style>\n",
       "<table border=\"1\" class=\"dataframe\">\n",
       "  <thead>\n",
       "    <tr style=\"text-align: right;\">\n",
       "      <th></th>\n",
       "      <th>Coef</th>\n",
       "    </tr>\n",
       "  </thead>\n",
       "  <tbody>\n",
       "    <tr>\n",
       "      <th>v2x_polyarchy</th>\n",
       "      <td>-3.554368e-04</td>\n",
       "    </tr>\n",
       "    <tr>\n",
       "      <th>gdppc</th>\n",
       "      <td>-6.816236e-09</td>\n",
       "    </tr>\n",
       "  </tbody>\n",
       "</table>\n",
       "</div>"
      ],
      "text/plain": [
       "                       Coef\n",
       "v2x_polyarchy -3.554368e-04\n",
       "gdppc         -6.816236e-09"
      ]
     },
     "execution_count": 24,
     "metadata": {},
     "output_type": "execute_result"
    }
   ],
   "source": [
    "pd.DataFrame(model.coef_, x.columns, columns=[\"Coef\"])"
   ]
  },
  {
   "cell_type": "code",
   "execution_count": null,
   "id": "d446938f",
   "metadata": {},
   "outputs": [],
   "source": []
  },
  {
   "cell_type": "code",
   "execution_count": 25,
   "id": "142eb769",
   "metadata": {},
   "outputs": [
    {
     "data": {
      "image/png": "[encoded data removed]",
      "text/plain": [
       "<Figure size 432x288 with 1 Axes>"
      ]
     },
     "metadata": {},
     "output_type": "display_data"
    }
   ],
   "source": [
    "#plot linear model across scatterplot\n",
    "#switch y axis to deaths_late\n",
    "# shows steeper line\n",
    "\n",
    "model = LinearRegression(fit_intercept=True)\n",
    "model.fit(dc['v2x_polyarchy'][:, np.newaxis], dc['deaths_late'])\n",
    "\n",
    "xfit = np.linspace(0, 1, 100)\n",
    "yfit = model.predict(xfit[:, np.newaxis])\n",
    "\n",
    "plt.scatter(dc['v2x_polyarchy'], dc['deaths_late'], marker = '4')\n",
    "plt.xlabel('Degree of Democracy')\n",
    "plt.ylabel('Late Covid Deaths per Capita')\n",
    "plt.title('Late Pandemic Suffering by Regime Type', loc='center')\n",
    "plt.plot(xfit, yfit);\n",
    "plt.savefig('visuals/late_deaths_by_regime_scatterplot.jpg')"
   ]
  },
  {
   "cell_type": "code",
   "execution_count": null,
   "id": "2eb89ad7",
   "metadata": {},
   "outputs": [],
   "source": []
  },
  {
   "cell_type": "code",
   "execution_count": null,
   "id": "ec2537c9",
   "metadata": {},
   "outputs": [],
   "source": []
  },
  {
   "cell_type": "code",
   "execution_count": null,
   "id": "4a8c5b8c",
   "metadata": {},
   "outputs": [],
   "source": []
  },
  {
   "cell_type": "code",
   "execution_count": null,
   "id": "98dbd6db",
   "metadata": {},
   "outputs": [],
   "source": []
  },
  {
   "cell_type": "markdown",
   "id": "ca5905d4",
   "metadata": {},
   "source": [
    "to do:\n",
    "* reverse engineer database merge\n",
    "* linear models of death ~ polyarchy\n",
    "* predict (via linear regression) covid deaths if, say Russia was as democratic as Germany\n",
    "* plots\n",
    "* upload files (script, data, visuals) to github\n",
    "\n"
   ]
  },
  {
   "cell_type": "code",
   "execution_count": null,
   "id": "50fc1ebe",
   "metadata": {},
   "outputs": [],
   "source": []
  }
 ],
 "metadata": {
  "kernelspec": {
   "display_name": "Python 3",
   "language": "python",
   "name": "python3"
  },
  "language_info": {
   "codemirror_mode": {
    "name": "ipython",
    "version": 3
   },
   "file_extension": ".py",
   "mimetype": "text/x-python",
   "name": "python",
   "nbconvert_exporter": "python",
   "pygments_lexer": "ipython3",
   "version": "3.8.8"
  }
 },
 "nbformat": 4,
 "nbformat_minor": 5
}
